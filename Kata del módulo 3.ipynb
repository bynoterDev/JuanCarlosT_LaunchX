{
 "cells": [
  {
   "cell_type": "markdown",
   "metadata": {},
   "source": [
    "## Prueba 1\n",
    "Para este ejercicio, escribirás una lógica condicional que imprima una advertencia si un asteroide se acerca a la Tierra demasiado rápido. La velocidad del asteroide varía dependiendo de lo cerca que esté del sol, y cualquier velocidad superior a 25 kilómetros por segundo (km/s) merece una advertencia.\n",
    "### Un asteroide se acerca, y viaja a una velocidad de 49 km/s."
   ]
  },
  {
   "cell_type": "code",
   "execution_count": 9,
   "metadata": {},
   "outputs": [
    {
     "name": "stdout",
     "output_type": "stream",
     "text": [
      "Advertencia!! Asteroide detectado 49 km/s\n"
     ]
    }
   ],
   "source": [
    "velocidadAsteroide = 49\n",
    "if velocidadAsteroide >25:\n",
    "    print(\"Advertencia!! Asteroide detectado \"+ str(velocidadAsteroide)+\" km/s\")\n",
    "else:\n",
    "    print(\"La Tierra esta Segura\")"
   ]
  },
  {
   "cell_type": "markdown",
   "metadata": {},
   "source": [
    "## Prueba 2\n",
    "Si un asteroide entra en la atmósfera de la Tierra a una velocidad mayor o igual a 20 km/s, a veces produce un rayo de luz que se puede ver desde la Tierra. Escribe la lógica condicional que usa declaraciones if, else, y elif para alertar a las personas de todo el mundo que deben buscar un asteroide en el cielo. ¡Hay uno que se dirige a la tierra ahora a una velocidad de 19 km/s!"
   ]
  },
  {
   "cell_type": "code",
   "execution_count": 10,
   "metadata": {},
   "outputs": [
    {
     "name": "stdout",
     "output_type": "stream",
     "text": [
      "Cielo despejado\n"
     ]
    }
   ],
   "source": [
    "velocidadAsteroide=19\n",
    "alerta = \"Alerta !!, Luz en el cielo\"\n",
    "todoOK=\"Cielo despejado\"\n",
    "if velocidadAsteroide >20:\n",
    "    print(alerta)\n",
    "elif velocidadAsteroide ==20:\n",
    "    print(alerta)\n",
    "else:\n",
    "    print(todoOK)"
   ]
  },
  {
   "cell_type": "markdown",
   "metadata": {},
   "source": [
    "## Prueba 3\n",
    "Los asteroides de menos de 25 metros en su dimensión más grande probablemente se quemarán a medida que entren en la atmósfera de la Tierra.\n",
    "\n",
    "Si una pieza de un asteroide que es más grande que 25 metros pero más pequeña que 1000 metros golpeara la Tierra, causaría mucho daño.\n",
    "También discutimos en el ejercicio anterior que:\n",
    "\n",
    "La velocidad del asteroide varía en función de lo cerca que esté del sol, y cualquier velocidad superior a 25 kilómetros por segundo (km/s) merece una advertencia.\n",
    "Si un asteroide entra en la atmósfera de la Tierra a una velocidad mayor o igual a 20 km/s, a veces produce un rayo de luz que se puede ver desde la Tierra."
   ]
  },
  {
   "cell_type": "code",
   "execution_count": 8,
   "metadata": {},
   "outputs": [
    {
     "name": "stdout",
     "output_type": "stream",
     "text": [
      "Alerta!! La tierra corre peligro a una velocidad 26 km/h y de un tamaño 40 Mtrs\n"
     ]
    }
   ],
   "source": [
    "velocidadAsteroide=26\n",
    "tamannoAsteroide = 40\n",
    "alerta=\"Alerta!! La tierra corre peligro un asteroide\"\n",
    "mensajeLuz=\"Alerta !!, Luz en el cielo\"\n",
    "mensajeSinLuz =\"Cielo despejado\"\n",
    "if velocidadAsteroide >25 and tamannoAsteroide >25:\n",
    "    print(alerta +\" a una velocidad \"+ str(velocidadAsteroide)+\" km/h y de un tamaño \"+ str(tamannoAsteroide)+\" Mtrs\")\n",
    "elif velocidadAsteroide >=20:\n",
    "    print (mensajeLuz)\n",
    "elif tamannoAsteroide<25:\n",
    "    print(mensajeSinLuz)\n",
    "else:\n",
    "    print(mensajeSinLuz)"
   ]
  }
 ],
 "metadata": {
  "interpreter": {
   "hash": "b89b5cfaba6639976dc87ff2fec6d58faec662063367e2c229c520fe71072417"
  },
  "kernelspec": {
   "display_name": "Python 3.10.2 64-bit",
   "language": "python",
   "name": "python3"
  },
  "language_info": {
   "codemirror_mode": {
    "name": "ipython",
    "version": 3
   },
   "file_extension": ".py",
   "mimetype": "text/x-python",
   "name": "python",
   "nbconvert_exporter": "python",
   "pygments_lexer": "ipython3",
   "version": "3.10.2"
  },
  "orig_nbformat": 4
 },
 "nbformat": 4,
 "nbformat_minor": 2
}
